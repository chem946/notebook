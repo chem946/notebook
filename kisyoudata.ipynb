{
 "metadata": {
  "name": "",
  "signature": "sha256:a985f4b9732e073bae7ab72f392aec3374203e5e022a76816076a8bcfca6dc6c"
 },
 "nbformat": 3,
 "nbformat_minor": 0,
 "worksheets": [
  {
   "cells": [
    {
     "cell_type": "code",
     "collapsed": false,
     "input": [
      "#BeautifulSoup\u306b\u3088\u308bWeb\u30b9\u30af\u30ec\u30a4\u30d4\u30f3\u30b0\n",
      "from BeautifulSoup import BeautifulSoup\n",
      "import urllib2\n",
      "\n",
      "# \u5bfe\u8c61\u306e\u30a2\u30c9\u30ec\u30b9\n",
      "\n",
      "#==========================\u3053\u3053\u304b\u3089\n",
      "#\u91e7\u8def \u6708\u306e\u30c7\u30fc\u30bf\n",
      "year='2013'\n",
      "month='09'\n",
      "day=''\n",
      "URL =  \"http://www.data.jma.go.jp/obd/stats/etrn/view/daily_s1.php?prec_no=19&block_no=47418&year=\"+\\\n",
      "    year+\"&month=\"+month+\"&day=&view=\"\n",
      "col_names=[\"\u6c17\u5727\u73fe\u5730\",\"\u6c17\u5727\u6d77\u9762\",\"\u964d\u6c34\u5408\u8a08\",\"\u964d\u6c34\uff11hr\",\"\u964d\u6c3410min\",\"\u6c17\u6e29\u5e73\u5747\",\"\u6c17\u6e29\u6700\u9ad8\",\"\u6c17\u6e29\u6700\u4f4e\"\\\n",
      "           ,\"\u6e7f\u5ea6\u5e73\u5747\",\"\u6e7f\u5ea6\u6700\u5c0f\",\"\u98a8\u901f\u5e73\u5747\",\"\u6700\u5927\u98a8\u901fm/s\",\"\u6700\u5927\u98a8\u901f\u98a8\u5411\",\"\u6700\u5927\u77ac\u9593\u98a8\u901fm/s\",\"\u6700\u5927\u77ac\u9593\u98a8\u901f\u98a8\u5411\"\\\n",
      "           ,\"\u65e5\u7167\u6642\u9593\",\"\u964d\u96ea\",\"\u6700\u6df1\u7a4d\u96ea\",\"\u5929\u6c17\u6982\u6cc1\u663c\",\"\u5929\u6c17\u6982\u6cc1\u591c\"]\n",
      "#=========================\u3053\u3053\u307e\u3067\n",
      "\n",
      "\"\"\"\n",
      "#==========================\u3053\u3053\u304b\u3089\n",
      "#\u91e7\u8def \u65e5\u306e\u30c7\u30fc\u30bf\n",
      "year='2014'\n",
      "month='01'\n",
      "day='10'\n",
      "URL = \"http://www.data.jma.go.jp/obd/stats/etrn/view/hourly_s1.php?prec_no=19&block_no=47418&+year=\"+\\\n",
      "    year+\"&month=\"+month+\"&day=\"+day+\"&view=\"\n",
      "col_names=[\"\u6c17\u5727\u73fe\u5730\",\"\u6c17\u5727\u6d77\u9762\",\"\u964d\u6c34\u91cf\",\"\u6c17\u6e29\",\"\u9732\u70b9\u6e29\u5ea6\",\"\u84b8\u6c17\u5727\",\"\u6e7f\u5ea6\",\"\u98a8\u901f\",\"\u98a8\u5411\",\"\u65e5\u7167\u6642\u9593\",\"\u5168\u5929\u65e5\u5c04\u91cf\",\"\u964d\u96ea\",\"\u7a4d\u96ea\",\"\u5929\u6c17\",\"\u96f2\u91cf\",\"\u8996\u7a0b\"]\n",
      "#=========================\u3053\u3053\u307e\u3067\n",
      "\"\"\"\n",
      "\n",
      "# Web \u304b\u3089\u30c7\u30fc\u30bf\u3092\u53d6\u5f97\u3059\u308b\n",
      "html = urllib2.urlopen(URL).read()\n",
      "soup = BeautifulSoup(html)\n",
      "\n",
      "\n",
      "print year,'\u5e74',month,'\u6708',day,'\u65e5'\n"
     ],
     "language": "python",
     "metadata": {},
     "outputs": []
    },
    {
     "cell_type": "code",
     "collapsed": false,
     "input": [
      "#\u3000\u30ea\u30b9\u30c8records \u306b\u8868\u306e\u30c7\u30fc\u30bf\u3092\u53d6\u308a\u8fbc\u3080\n",
      "records = []\n",
      "# class \u5c5e\u6027\u304c mtx \u3067\u3042\u308b tr \u30bf\u30b0\u3092\u5bfe\u8c61\u306b\n",
      "for tr in soup('tr', {'class':'mtx'}):\n",
      "    rec = []\n",
      "    #td\u30bf\u30b0\u3092\u5bfe\u8c61\u306b\n",
      "    for td in tr('td', {'class':'data_0_0'}):\n",
      "        # \u5404\u30c7\u30fc\u30bf\u3092\u53d6\u5f97\n",
      "        data = td.renderContents().strip()\n",
      "        if not data.find('img')==-1:   #\u5929\u6c17\u8a18\u53f7\u306e\u5834\u5408\u306e\u51e6\u7406\n",
      "            data=data.split('alt=\"')[1].strip('\" />')\n",
      "        if not data.find('&nbsp;')==-1:   #\u96f2\u91cf\u306e\u5834\u5408\u306e\u51e6\u7406\n",
      "            data=data.replace('&nbsp;','')\n",
      "        rec.append(data)\n",
      "    if rec != []: records.append(rec)\n",
      "\n",
      "print year,'\u5e74',month,'\u6708',day,'\u65e5'"
     ],
     "language": "python",
     "metadata": {},
     "outputs": []
    },
    {
     "cell_type": "code",
     "collapsed": false,
     "input": [
      "# \u53d6\u5f97\u3057\u305f\u30c7\u30fc\u30bf\u3092\u51fa\u529b\u3059\u308b\n",
      "no=1\n",
      "for rec in records:\n",
      "    for i, data in enumerate(rec):\n",
      "        print no,unicode(data, 'utf-8'), \" \",\n",
      "    print\n",
      "    no+=1"
     ],
     "language": "python",
     "metadata": {},
     "outputs": []
    },
    {
     "cell_type": "code",
     "collapsed": false,
     "input": [
      "#csv\u30d5\u30a1\u30a4\u30eb\u3078\u306e\u66f8\u304d\u51fa\u3057\u3000\u3000\u30d5\u30a1\u30a4\u30eb\u540d\u3000\u5e74_\u6708_\u65e5.csv\n",
      "import csv\n",
      "#f = open('data.csv', 'rb')\n",
      "#dataReader = csv.reader(f)\n",
      "filename=year+'_'+month+'_'+day+\".csv\"\n",
      "f = open(filename, 'wb')\n",
      "datawriter = csv.writer(f)\n",
      "for rec in records:\n",
      "    datawriter.writerow(rec)\n",
      "f.close()\n",
      "print 'saved as ',filename\n"
     ],
     "language": "python",
     "metadata": {},
     "outputs": []
    },
    {
     "cell_type": "code",
     "collapsed": false,
     "input": [
      "#\u4ee5\u4e0b\u306fpandas\u306b\u3088\u308b\u51e6\u7406===============================================\n",
      "import pandas as pd\n",
      "data=pd.read_csv(filename,names=col_names)"
     ],
     "language": "python",
     "metadata": {},
     "outputs": []
    },
    {
     "cell_type": "code",
     "collapsed": false,
     "input": [
      "#\u8868\u306e\u51fa\u529b\n",
      "data"
     ],
     "language": "python",
     "metadata": {},
     "outputs": []
    },
    {
     "cell_type": "code",
     "collapsed": false,
     "input": [
      "#\u96c6\u8a08\u8868\u306e\u51fa\u529b\n",
      "data.describe()"
     ],
     "language": "python",
     "metadata": {},
     "outputs": []
    },
    {
     "cell_type": "code",
     "collapsed": false,
     "input": [
      "#\u9805\u76ee\u540d\u306e\u78ba\u8a8d\n",
      "for i in enumerate(data.columns):print i[0],i[1],"
     ],
     "language": "python",
     "metadata": {},
     "outputs": []
    },
    {
     "cell_type": "code",
     "collapsed": false,
     "input": [
      "#\u9805\u76ee\u3092\u6307\u5b9a\u3057\u3066\u8868\u51fa\u529b\n",
      "data.iloc[:,[0,2,3]]"
     ],
     "language": "python",
     "metadata": {},
     "outputs": []
    },
    {
     "cell_type": "code",
     "collapsed": false,
     "input": [],
     "language": "python",
     "metadata": {},
     "outputs": []
    }
   ],
   "metadata": {}
  }
 ]
}