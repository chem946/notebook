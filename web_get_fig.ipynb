{
 "metadata": {
  "name": "",
  "signature": "sha256:bad8f1f6ddc97462a7af49bc37e7b92288f90a81c5e50f57c7e0a5c59688edc6"
 },
 "nbformat": 3,
 "nbformat_minor": 0,
 "worksheets": [
  {
   "cells": [
    {
     "cell_type": "code",
     "collapsed": false,
     "input": [
      "#BeautifulSoup\u306b\u3088\u308bWeb\u30b9\u30af\u30ec\u30a4\u30d4\u30f3\u30b0\u3000tenki.jp \u304b\u3089\u3000\u6e29\u5ea6\u5909\u5316\u30b0\u30e9\u30d5\n",
      "from BeautifulSoup import BeautifulSoup\n",
      "import urllib2\n",
      "# \u5bfe\u8c61\u306e\u30a2\u30c9\u30ec\u30b9\n",
      "URL=\"http://www.tenki.jp/live/1/3/47418.html\"\n",
      "# Web \u304b\u3089\u30c7\u30fc\u30bf\u3092\u53d6\u5f97\u3059\u308b\n",
      "html = urllib2.urlopen(URL).read()\n",
      "soup = BeautifulSoup(html)\n",
      "print soup('td',{'class':'temp_graph_entry'})[0].find(\"img\").get(\"src\")\n"
     ],
     "language": "python",
     "metadata": {},
     "outputs": [
      {
       "output_type": "stream",
       "stream": "stdout",
       "text": [
        "http://az416740.vo.msecnd.net/static-images/live/point_graph/point_graph_47418.gif?20150208200000\n"
       ]
      }
     ],
     "prompt_number": 84
    },
    {
     "cell_type": "code",
     "collapsed": false,
     "input": [
      "#BeautifulSoup\u306b\u3088\u308bWeb\u30b9\u30af\u30ec\u30a4\u30d4\u30f3\u30b0   \u6c17\u8c61\u5e81\u304b\u3089\u5929\u6c17\u56f3\n",
      "from BeautifulSoup import BeautifulSoup\n",
      "import urllib2\n",
      "URL=\"http://www.jma.go.jp/jp/g3/\"\n",
      "# Web \u304b\u3089\u30c7\u30fc\u30bf\u3092\u53d6\u5f97\u3059\u308b\n",
      "html = urllib2.urlopen(URL).read()\n",
      "soup = BeautifulSoup(html)\n",
      "print URL+soup('div',{'id':'info'})[0].find('img').get('src')"
     ],
     "language": "python",
     "metadata": {},
     "outputs": [
      {
       "output_type": "stream",
       "stream": "stdout",
       "text": [
        "http://www.jma.go.jp/jp/g3/images/observe/15020818.png\n"
       ]
      }
     ],
     "prompt_number": 85
    },
    {
     "cell_type": "code",
     "collapsed": false,
     "input": [
      "from IPython.display import Latex\n",
      "Latex(r\"\"\"\\begin{eqnarray}\n",
      "\\nabla \\times \\vec{\\mathbf{B}} -\\, \\frac1c\\, \\frac{\\partial\\vec{\\mathbf{E}}}{\\partial t} & = \\frac{4\\pi}{c}\\vec{\\mathbf{j}} \\\\\n",
      "\\nabla \\cdot \\vec{\\mathbf{E}} & = 4 \\pi \\rho \\\\\n",
      "\\nabla \\times \\vec{\\mathbf{E}}\\, +\\, \\frac1c\\, \\frac{\\partial\\vec{\\mathbf{B}}}{\\partial t} & = \\vec{\\mathbf{0}} \\\\\n",
      "\\nabla \\cdot \\vec{\\mathbf{B}} & = 0 \n",
      "\\end{eqnarray}\"\"\")"
     ],
     "language": "python",
     "metadata": {},
     "outputs": [
      {
       "latex": [
        "\\begin{eqnarray}\n",
        "\\nabla \\times \\vec{\\mathbf{B}} -\\, \\frac1c\\, \\frac{\\partial\\vec{\\mathbf{E}}}{\\partial t} & = \\frac{4\\pi}{c}\\vec{\\mathbf{j}} \\\\\n",
        "\\nabla \\cdot \\vec{\\mathbf{E}} & = 4 \\pi \\rho \\\\\n",
        "\\nabla \\times \\vec{\\mathbf{E}}\\, +\\, \\frac1c\\, \\frac{\\partial\\vec{\\mathbf{B}}}{\\partial t} & = \\vec{\\mathbf{0}} \\\\\n",
        "\\nabla \\cdot \\vec{\\mathbf{B}} & = 0 \n",
        "\\end{eqnarray}"
       ],
       "metadata": {},
       "output_type": "pyout",
       "prompt_number": 88,
       "text": [
        "<IPython.core.display.Latex at 0x5563490>"
       ]
      }
     ],
     "prompt_number": 88
    },
    {
     "cell_type": "code",
     "collapsed": false,
     "input": [
      "%%latex\n",
      "\\usepackage[version=3]{mhchem}\n",
      "\\usepackage{mhchem}\n",
      "\\ce{H+}"
     ],
     "language": "python",
     "metadata": {},
     "outputs": [
      {
       "latex": [
        "\\usepackage[version=3]{mhchem}\n",
        "\\usepackage{mhchem}\n",
        "\\ce{H+}"
       ],
       "metadata": {},
       "output_type": "display_data",
       "text": [
        "<IPython.core.display.Latex at 0x5563930>"
       ]
      }
     ],
     "prompt_number": 98
    },
    {
     "cell_type": "markdown",
     "metadata": {},
     "source": [
      "$x^2+y^2=r^2$  \n",
      "$y=\\sqrt{r^2-x^2}$  "
     ]
    },
    {
     "cell_type": "markdown",
     "metadata": {},
     "source": [
      "$ \\alpha \\beta \\pi \\frac{2}{3} $"
     ]
    },
    {
     "cell_type": "markdown",
     "metadata": {},
     "source": [
      "```js\n",
      "console.log(\"hello\");\n",
      "```"
     ]
    },
    {
     "cell_type": "markdown",
     "metadata": {},
     "source": [
      "```python\n",
      "#BeautifulSoup\u306b\u3088\u308bWeb\u30b9\u30af\u30ec\u30a4\u30d4\u30f3\u30b0\n",
      "from BeautifulSoup import BeautifulSoup\n",
      "import urllib2\n",
      "\n",
      "# \u5bfe\u8c61\u306e\u30a2\u30c9\u30ec\u30b9\n",
      "\n",
      "#==========================\u3053\u3053\u304b\u3089\n",
      "#\u91e7\u8def \u6708\u306e\u30c7\u30fc\u30bf\n",
      "year='2013'\n",
      "month='09'\n",
      "day=''\n",
      "URL =  \"http://www.data.jma.go.jp/obd/stats/etrn/view/daily_s1.php?prec_no=19&block_no=47418&year=\"+\\\n",
      "    year+\"&month=\"+month+\"&day=&view=\"\n",
      "col_names=[\"\u6c17\u5727\u73fe\u5730\",\"\u6c17\u5727\u6d77\u9762\",\"\u964d\u6c34\u5408\u8a08\",\"\u964d\u6c34\uff11hr\",\"\u964d\u6c3410min\",\"\u6c17\u6e29\u5e73\u5747\",\"\u6c17\u6e29\u6700\u9ad8\",\"\u6c17\u6e29\u6700\u4f4e\"\\\n",
      "           ,\"\u6e7f\u5ea6\u5e73\u5747\",\"\u6e7f\u5ea6\u6700\u5c0f\",\"\u98a8\u901f\u5e73\u5747\",\"\u6700\u5927\u98a8\u901fm/s\",\"\u6700\u5927\u98a8\u901f\u98a8\u5411\",\"\u6700\u5927\u77ac\u9593\u98a8\u901fm/s\",\"\u6700\u5927\u77ac\u9593\u98a8\u901f\u98a8\u5411\"\\\n",
      "           ,\"\u65e5\u7167\u6642\u9593\",\"\u964d\u96ea\",\"\u6700\u6df1\u7a4d\u96ea\",\"\u5929\u6c17\u6982\u6cc1\u663c\",\"\u5929\u6c17\u6982\u6cc1\u591c\"]\n",
      "#=========================\u3053\u3053\u307e\u3067\n",
      "\n",
      "\"\"\"\n",
      "#==========================\u3053\u3053\u304b\u3089\n",
      "#\u91e7\u8def \u65e5\u306e\u30c7\u30fc\u30bf\n",
      "year='2014'\n",
      "month='01'\n",
      "day='10'\n",
      "URL = \"http://www.data.jma.go.jp/obd/stats/etrn/view/hourly_s1.php?prec_no=19&block_no=47418&+year=\"+\\\n",
      "    year+\"&month=\"+month+\"&day=\"+day+\"&view=\"\n",
      "col_names=[\"\u6c17\u5727\u73fe\u5730\",\"\u6c17\u5727\u6d77\u9762\",\"\u964d\u6c34\u91cf\",\"\u6c17\u6e29\",\"\u9732\u70b9\u6e29\u5ea6\",\"\u84b8\u6c17\u5727\",\"\u6e7f\u5ea6\",\"\u98a8\u901f\",\"\u98a8\u5411\",\"\u65e5\u7167\u6642\u9593\",\"\u5168\u5929\u65e5\u5c04\u91cf\",\"\u964d\u96ea\",\"\u7a4d\u96ea\",\"\u5929\u6c17\",\"\u96f2\u91cf\",\"\u8996\u7a0b\"]\n",
      "#=========================\u3053\u3053\u307e\u3067\n",
      "\"\"\"\n",
      "\n",
      "# Web \u304b\u3089\u30c7\u30fc\u30bf\u3092\u53d6\u5f97\u3059\u308b\n",
      "html = urllib2.urlopen(URL).read()\n",
      "soup = BeautifulSoup(html)\n",
      "\n",
      "\n",
      "print year,'\u5e74',month,'\u6708',day,'\u65e5'\n",
      "```"
     ]
    },
    {
     "cell_type": "code",
     "collapsed": false,
     "input": [],
     "language": "python",
     "metadata": {},
     "outputs": []
    }
   ],
   "metadata": {}
  }
 ]
}