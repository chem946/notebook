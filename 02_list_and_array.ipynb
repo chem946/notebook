{
 "metadata": {
  "name": "",
  "signature": "sha256:d6a97dea139426d32cbd0b0a9bde2aa63b7fe5efd817017bc5d5237aa8d7e0a5"
 },
 "nbformat": 3,
 "nbformat_minor": 0,
 "worksheets": [
  {
   "cells": [
    {
     "cell_type": "code",
     "collapsed": false,
     "input": [
      "#\u30ea\u30b9\u30c8\u3068\u30a2\u30ec\u30a4\u306e\u4f7f\u3044\u65b9\n",
      "a=[1,2,3,4]\n",
      "b=['ABC','DEF']\n",
      "c=array(a)\n",
      "print a,b,c\n",
      "print a[1],b[1],c[1]\n",
      "print b[0][1],b[1][::-1]"
     ],
     "language": "python",
     "metadata": {},
     "outputs": []
    },
    {
     "cell_type": "code",
     "collapsed": false,
     "input": [
      "print b*2 #\u30ea\u30b9\u30c8\u306b\u5bfe\u3057\u3066\u639b\u3051\u7b97\u306f\u7e70\u308a\u8fd4\u3057\u306b\u306a\u308b\n",
      "print c*2 #\u30a2\u30ec\u30a4\u3060\u3068\u8981\u7d20\u306e\u6f14\u7b97\u304c\u53ef\u80fd"
     ],
     "language": "python",
     "metadata": {},
     "outputs": []
    },
    {
     "cell_type": "code",
     "collapsed": false,
     "input": [
      "d=array([-pi,-0.5*pi,0,0.5*pi,pi])\n",
      "e=sin(d)\n",
      "print d;print e"
     ],
     "language": "python",
     "metadata": {},
     "outputs": []
    },
    {
     "cell_type": "code",
     "collapsed": false,
     "input": [
      "#\u30a2\u30ec\u30a4\u306b\u306f\uff4e\u6b21\u306e\u884c\u5217\u304c\u4f5c\u308c\u308b\n",
      "#\uff12\uff58\uff12\u306e\u4f8b\n",
      "a=array([(1,2),(3,4)])\n",
      "b=array([[1,2],[3,4]])\n",
      "print a\n",
      "print b\n",
      "print a*2"
     ],
     "language": "python",
     "metadata": {},
     "outputs": []
    },
    {
     "cell_type": "code",
     "collapsed": false,
     "input": [
      "a=array([(1,2),(3,4)])\n",
      "b=array([1,-1])\n",
      "print a\n",
      "print a*b      #\u914d\u5217\u8981\u7d20\u306e\u7a4d\n",
      "print a.dot(b) #dot\u3067\u884c\u5217\u306e\u7a4d"
     ],
     "language": "python",
     "metadata": {},
     "outputs": []
    },
    {
     "cell_type": "code",
     "collapsed": false,
     "input": [
      "a=array([(1,2,3),(4,5,6),(7,8,9)])\n",
      "print a\n",
      "print a.dot(array([0,1,0])) #2\u5217\u76ee\u306e\u53d6\u308a\u51fa\u3057"
     ],
     "language": "python",
     "metadata": {},
     "outputs": []
    },
    {
     "cell_type": "code",
     "collapsed": false,
     "input": [],
     "language": "python",
     "metadata": {},
     "outputs": []
    }
   ],
   "metadata": {}
  }
 ]
}