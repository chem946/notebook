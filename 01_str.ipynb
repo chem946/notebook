{
 "metadata": {
  "name": "",
  "signature": "sha256:d0536f381d8e416eed60131a719508a0682c6f9a6f934102e0bee3dcef2387e8"
 },
 "nbformat": 3,
 "nbformat_minor": 0,
 "worksheets": [
  {
   "cells": [
    {
     "cell_type": "code",
     "collapsed": false,
     "input": [
      "print 'abc',\"abc\"   #\u6587\u5b57\u5217\u306f\u3000\"\u304b'\u3067\u56f2\u3080"
     ],
     "language": "python",
     "metadata": {},
     "outputs": []
    },
    {
     "cell_type": "code",
     "collapsed": false,
     "input": [
      "'abc'+'123'    #\u6587\u5b57\u5217\u306e\u9023\u7d50\u306f\u3000+"
     ],
     "language": "python",
     "metadata": {},
     "outputs": []
    },
    {
     "cell_type": "code",
     "collapsed": false,
     "input": [
      "'123456789'[1]   #\u6587\u5b57\u5217\uff08str\u578b\uff09\u306f\u914d\u5217\u306b\u306a\u3063\u3066\u3044\u308b\u3002\u914d\u5217\u306f[\uff10]\u304b\u3089\u59cb\u307e\u308b\u3002"
     ],
     "language": "python",
     "metadata": {},
     "outputs": []
    },
    {
     "cell_type": "code",
     "collapsed": false,
     "input": [
      "#\u6587\u5b57\u5217\u306e\u30b9\u30e9\u30a4\u30b9\n",
      "#\u6587\u5b57\u5217[a:b:c]  \u6587\u5b57\u5217\u306e\u914d\u5217[a]\u3068[b]\u306e\u9593\u3092\u9593\u9694c\u3067\u53d6\u308a\u51fa\u3059\n",
      "mystr='123456789'\n",
      "a=2;b=5;c=2\n",
      "print mystr[a:b:c]  # \u6b63\u9806\n",
      "a=5;b=2;c=-2\n",
      "print '123456789'[a:b:c]  # \u9006\u9806\n",
      "b=5;c=2\n",
      "print mystr[:b:c]  # \u3000a\u304c\u7701\u7565\u3055\u308c\u308b\u30680\u3068\u307f\u306a\u3055\u308c\u308b\n",
      "a=2;c=2\n",
      "print mystr[a::c]  # \u3000b\u304c\u7701\u7565\u3055\u308c\u308b\u3068\u914d\u5217\u306e\u6700\u5f8c\u307e\u3067\u3068\u307f\u306a\u3055\u308c\u308b\n",
      "a=2;b=5\n",
      "print mystr[a:b:]  #c\u304c\u7701\u7565\u3055\u308c\u308b\u3068\uff11\u3068\u307f\u306a\u3055\u308c\u308b \n",
      "print mystr[a:b]   # \u6700\u5f8c\u306e\uff1a\u3082\u7701\u7565\u3067\u304d\u308b\n",
      "\n"
     ],
     "language": "python",
     "metadata": {},
     "outputs": []
    },
    {
     "cell_type": "code",
     "collapsed": false,
     "input": [
      "'123456789'[1:4]  # \u57fa\u672c\u5f62\u3000[\u958b\u59cb]\u3068[\u7d42\u4e86]\u306e\u9593   [1:4:1]"
     ],
     "language": "python",
     "metadata": {},
     "outputs": []
    },
    {
     "cell_type": "code",
     "collapsed": false,
     "input": [
      "'123456789'[1:]  #\u3000\u914d\u5217[\uff11]\u304b\u3089\u6700\u5f8c\u307e\u3067\u3000\u7d42\u4e86\u304c\u7701\u7565\u3055\u308c\u305f\u3082\u306e [1::1]"
     ],
     "language": "python",
     "metadata": {},
     "outputs": []
    },
    {
     "cell_type": "code",
     "collapsed": false,
     "input": [
      "'123456789'[:2]  #\u3000\u914d\u5217[0]\u304b\u3089\u914d\u5217[2]\u307e\u3067\u3000\u958b\u59cb\u304c\u7701\u7565\u3055\u308c\u305f\u3082\u306e [0:2:1]"
     ],
     "language": "python",
     "metadata": {},
     "outputs": []
    },
    {
     "cell_type": "code",
     "collapsed": false,
     "input": [
      "'123456789'[1::]  #\u57fa\u672c\u5f62\u3067\u7d42\u4e86\u3068\u9593\u9694\u304c\u7701\u7565\u3055\u308c\u305f\u306e\u3068\u304a\u306a\u3058[1:]\u3067\u3082\u304a\u306a\u3058\u3000 [1::1]"
     ],
     "language": "python",
     "metadata": {},
     "outputs": []
    },
    {
     "cell_type": "code",
     "collapsed": false,
     "input": [
      "'123456789'[:-1] # \u7d42\u4e86\u304c-1\u306e\u5834\u5408\u6700\u5f8c\u306e\u6587\u5b57\u304b\u3089-1\u6587\u5b57\u307e\u3067\u306b\u306a\u308b\u3000 [0:-1:1]"
     ],
     "language": "python",
     "metadata": {},
     "outputs": []
    },
    {
     "cell_type": "code",
     "collapsed": false,
     "input": [
      "'123456789'[1::2] #[1]\u304b\u3089\u6700\u5f8c\u307e\u3067\u9593\u9694\uff12\u3067     "
     ],
     "language": "python",
     "metadata": {},
     "outputs": []
    },
    {
     "cell_type": "code",
     "collapsed": false,
     "input": [
      "'123456789'[2::2] #[2]\u304b\u3089\u6700\u5f8c\u307e\u3067\u9593\u9694\uff12\u3067"
     ],
     "language": "python",
     "metadata": {},
     "outputs": []
    },
    {
     "cell_type": "code",
     "collapsed": false,
     "input": [
      "'123456789'[::-1] #\u9006\u9806   [a:b:-1]   a\u304c\u6700\u521db\u304c\u6700\u5f8c\u306a\u306e\u3067\u7701\u7565"
     ],
     "language": "python",
     "metadata": {},
     "outputs": []
    },
    {
     "cell_type": "code",
     "collapsed": false,
     "input": [
      "'123456789'[1::-1] #[1]\u304b\u3089\u9006\u9806\u3067\u6700\u5f8c\u307e\u3067"
     ],
     "language": "python",
     "metadata": {},
     "outputs": []
    },
    {
     "cell_type": "code",
     "collapsed": false,
     "input": [
      "'123456789'[3:1:-1] #[3]\u304b\u3089[1]\u9006\u9806\u3067"
     ],
     "language": "python",
     "metadata": {},
     "outputs": []
    },
    {
     "cell_type": "code",
     "collapsed": false,
     "input": [
      "'123456789'[:3:-1] #\u914d\u5217\u306e\u6700\u5f8c\u304b\u3089[3]\u9006\u9806\u3067  [a:b:-1]\u3067a\u304c\u7701\u7565"
     ],
     "language": "python",
     "metadata": {},
     "outputs": []
    },
    {
     "cell_type": "code",
     "collapsed": false,
     "input": [],
     "language": "python",
     "metadata": {},
     "outputs": []
    }
   ],
   "metadata": {}
  }
 ]
}