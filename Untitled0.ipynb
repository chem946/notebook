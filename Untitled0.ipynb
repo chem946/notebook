{
 "metadata": {
  "name": "",
  "signature": "sha256:60a12c6af69cf3d919fdfaca09dc64ce87876b62e16761eaae963606ebb24cf4"
 },
 "nbformat": 3,
 "nbformat_minor": 0,
 "worksheets": [
  {
   "cells": [
    {
     "cell_type": "markdown",
     "metadata": {},
     "source": [
      "#\u6570\u5f0f\u306e\u5165\u529b\n",
      "\uff04\u3067\u56f2\u3080\u3068mathjax\u3067\u6570\u5f0f\u304c\u8868\u793a\u3055\u308c\u308b\u3002  \n",
      "\n",
      "~~~~\n",
      "$ y = x^2 + x + 1 $  \n",
      "$ \\sqrt{x^2-\\pi} $  \n",
      "$ \\alpha + \\beta = 2 \\times 1.2 $  \n",
      "~~~~\n",
      "$y=x^2+x+1$  \n",
      "$\\sqrt{x^2-\\pi}$  \n",
      "$\\alpha + \\beta = 2 \\times 1.2 $  "
     ]
    },
    {
     "cell_type": "markdown",
     "metadata": {},
     "source": []
    }
   ],
   "metadata": {}
  }
 ]
}